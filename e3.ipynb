{
 "cells": [
  {
   "cell_type": "code",
   "execution_count": 66,
   "metadata": {},
   "outputs": [],
   "source": [
    "import sympy as sy\n",
    "import numpy as np"
   ]
  },
  {
   "cell_type": "code",
   "execution_count": 67,
   "metadata": {},
   "outputs": [],
   "source": [
    "λ = sy.Symbol(\"λ\")"
   ]
  },
  {
   "cell_type": "markdown",
   "metadata": {},
   "source": [
    "# Problem #3"
   ]
  },
  {
   "cell_type": "markdown",
   "metadata": {},
   "source": [
    "### Part 1), 2)"
   ]
  },
  {
   "cell_type": "code",
   "execution_count": 68,
   "metadata": {},
   "outputs": [],
   "source": [
    "rho = sy.Matrix([\n",
    "    [1, 0, 0, 0],\n",
    "    [0, 1, 1, 0],\n",
    "    [0, 1, 1, 0],\n",
    "    [0, 0, 0, 0]\n",
    "])/3\n",
    "\n",
    "rho_pt = sy.Matrix([\n",
    "    [1, 0, 0, 1],\n",
    "    [0, 1, 0, 0],\n",
    "    [0, 0, 1, 0],\n",
    "    [1, 0, 0, 0]\n",
    "])/3\n",
    "\n",
    "si = sy.Matrix([\n",
    "    [1, 0, 0, 0],\n",
    "    [0, 0, 0, 0],\n",
    "    [0, 0, 0, 0],\n",
    "    [0, 0, 0, 2]\n",
    "])/3"
   ]
  },
  {
   "cell_type": "code",
   "execution_count": 69,
   "metadata": {},
   "outputs": [
    {
     "data": {
      "text/plain": [
       "{1/3: 1, 2/3: 1, 0: 2}"
      ]
     },
     "execution_count": 69,
     "metadata": {},
     "output_type": "execute_result"
    }
   ],
   "source": [
    "rho.eigenvals()"
   ]
  },
  {
   "cell_type": "markdown",
   "metadata": {},
   "source": [
    "$ρ_{AB}$, has eigenvalues \n",
    "\n",
    "$λ_0 = 1/3 $\n",
    "\n",
    "$λ_1 = 2/3$\n",
    "\n",
    "$λ_2 = 2$"
   ]
  },
  {
   "cell_type": "code",
   "execution_count": 70,
   "metadata": {},
   "outputs": [
    {
     "data": {
      "text/plain": [
       "{1/6 - sqrt(5)/6: 1, 1/6 + sqrt(5)/6: 1, 1/3: 2}"
      ]
     },
     "execution_count": 70,
     "metadata": {},
     "output_type": "execute_result"
    }
   ],
   "source": [
    "rho_pt.eigenvals()"
   ]
  },
  {
   "cell_type": "markdown",
   "metadata": {},
   "source": [
    "$ρ_{AB}^{PT},$ has eigenvalues \n",
    "\n",
    "$λ_0 = (1- \\sqrt(5))/6 $\n",
    "\n",
    "$λ_1 = (1 + \\sqrt(5))/6 $\n",
    "\n",
    "$λ_2 = 1/3 $ "
   ]
  },
  {
   "cell_type": "markdown",
   "metadata": {},
   "source": [
    "#### Since there are negative eigenvalues, it is entangled"
   ]
  },
  {
   "cell_type": "markdown",
   "metadata": {},
   "source": [
    "$\\sigma_{AB}$ is the same as its partial transposed "
   ]
  },
  {
   "cell_type": "code",
   "execution_count": 71,
   "metadata": {},
   "outputs": [
    {
     "data": {
      "text/plain": [
       "{1/3: 1, 0: 2, 2/3: 1}"
      ]
     },
     "execution_count": 71,
     "metadata": {},
     "output_type": "execute_result"
    }
   ],
   "source": [
    "si.eigenvals()"
   ]
  },
  {
   "cell_type": "markdown",
   "metadata": {},
   "source": [
    "Only positive eigenvalues for $\\sigma_{AB}^{PT}$ therefore separable"
   ]
  },
  {
   "cell_type": "code",
   "execution_count": 72,
   "metadata": {},
   "outputs": [
    {
     "data": {
      "text/latex": [
       "$\\displaystyle \\left[\\begin{matrix}\\frac{1}{3} & 0 & 0 & 0\\\\0 & \\frac{1}{3} & \\frac{1}{3} & 0\\\\0 & \\frac{1}{3} & \\frac{1}{3} & 0\\\\0 & 0 & 0 & 0\\end{matrix}\\right]$"
      ],
      "text/plain": [
       "Matrix([\n",
       "[1/3,   0,   0, 0],\n",
       "[  0, 1/3, 1/3, 0],\n",
       "[  0, 1/3, 1/3, 0],\n",
       "[  0,   0,   0, 0]])"
      ]
     },
     "execution_count": 72,
     "metadata": {},
     "output_type": "execute_result"
    }
   ],
   "source": [
    "rho"
   ]
  },
  {
   "cell_type": "code",
   "execution_count": 73,
   "metadata": {},
   "outputs": [
    {
     "data": {
      "text/latex": [
       "$\\displaystyle \\left[\\begin{matrix}\\frac{2}{3} & 0\\\\0 & \\frac{1}{3}\\end{matrix}\\right]$"
      ],
      "text/plain": [
       "Matrix([\n",
       "[2/3,   0],\n",
       "[  0, 1/3]])"
      ]
     },
     "execution_count": 73,
     "metadata": {},
     "output_type": "execute_result"
    }
   ],
   "source": [
    "rho_A = sy.Matrix([\n",
    "    [2, 0],\n",
    "    [0, 1]\n",
    "])/3\n",
    "\n",
    "rho_A"
   ]
  },
  {
   "cell_type": "code",
   "execution_count": 74,
   "metadata": {},
   "outputs": [
    {
     "data": {
      "text/plain": [
       "{2/3: 1, 1/3: 1}"
      ]
     },
     "execution_count": 74,
     "metadata": {},
     "output_type": "execute_result"
    }
   ],
   "source": [
    "rho_A.eigenvals()"
   ]
  },
  {
   "cell_type": "code",
   "execution_count": 75,
   "metadata": {},
   "outputs": [
    {
     "data": {
      "text/latex": [
       "$\\displaystyle \\left[\\begin{matrix}\\frac{1}{3} & 0\\\\0 & \\frac{2}{3}\\end{matrix}\\right]$"
      ],
      "text/plain": [
       "Matrix([\n",
       "[1/3,   0],\n",
       "[  0, 2/3]])"
      ]
     },
     "execution_count": 75,
     "metadata": {},
     "output_type": "execute_result"
    }
   ],
   "source": [
    "si_A = sy.Matrix([\n",
    "    [1, 0],\n",
    "    [0, 2]\n",
    "])/3\n",
    "\n",
    "si_A"
   ]
  },
  {
   "cell_type": "code",
   "execution_count": 76,
   "metadata": {},
   "outputs": [
    {
     "data": {
      "text/plain": [
       "{1/3: 1, 2/3: 1}"
      ]
     },
     "execution_count": 76,
     "metadata": {},
     "output_type": "execute_result"
    }
   ],
   "source": [
    "si_A.eigenvals()"
   ]
  },
  {
   "cell_type": "code",
   "execution_count": 77,
   "metadata": {},
   "outputs": [
    {
     "data": {
      "text/latex": [
       "$\\displaystyle \\left[\\begin{matrix}\\frac{1}{9} & 0\\\\0 & \\frac{4}{9}\\end{matrix}\\right]$"
      ],
      "text/plain": [
       "Matrix([\n",
       "[1/9,   0],\n",
       "[  0, 4/9]])"
      ]
     },
     "execution_count": 77,
     "metadata": {},
     "output_type": "execute_result"
    }
   ],
   "source": [
    "si_A**2"
   ]
  },
  {
   "cell_type": "markdown",
   "metadata": {},
   "source": [
    "$\\sigma_A^2 \\neq \\sigma_A$"
   ]
  },
  {
   "cell_type": "markdown",
   "metadata": {},
   "source": [
    "### Part 3)\n",
    "\n",
    "If $\\psi_{AB}$ is entangled then $Tr_{B} ρ_{AB}$ is mixed.\n",
    "\n",
    "But we see that $\\sigma_{AB}$ is separable, but $\\sigma_A$ is mixed agian so above criterion doesnt seem very reliable"
   ]
  },
  {
   "cell_type": "markdown",
   "metadata": {},
   "source": [
    "### Part 4) Isotropic state"
   ]
  },
  {
   "cell_type": "code",
   "execution_count": 79,
   "metadata": {},
   "outputs": [
    {
     "data": {
      "text/latex": [
       "$\\displaystyle \\left[\\begin{matrix}\\frac{λ}{4} + \\frac{1}{4} & 0 & 0 & \\frac{λ}{2}\\\\0 & \\frac{1}{4} - \\frac{λ}{4} & 0 & 0\\\\0 & 0 & \\frac{1}{4} - \\frac{λ}{4} & 0\\\\\\frac{λ}{2} & 0 & 0 & \\frac{λ}{4} + \\frac{1}{4}\\end{matrix}\\right]$"
      ],
      "text/plain": [
       "Matrix([\n",
       "[λ/4 + 1/4,         0,         0,       λ/2],\n",
       "[        0, 1/4 - λ/4,         0,         0],\n",
       "[        0,         0, 1/4 - λ/4,         0],\n",
       "[      λ/2,         0,         0, λ/4 + 1/4]])"
      ]
     },
     "execution_count": 79,
     "metadata": {},
     "output_type": "execute_result"
    }
   ],
   "source": [
    "M1 = λ*sy.Matrix([\n",
    "    [1, 0, 0, 1],\n",
    "    [0, 0, 0, 0],\n",
    "    [0, 0, 0, 0],\n",
    "    [1, 0, 0, 1]\n",
    "])/2\n",
    "M2 = (1-λ)*sy.Matrix([\n",
    "    [1, 0, 0, 0],\n",
    "    [0, 1, 0, 0],\n",
    "    [0, 0, 1, 0],\n",
    "    [0, 0, 0, 1]\n",
    "])/4\n",
    "\n",
    "rho_iso = M1+M2\n",
    "rho_iso"
   ]
  },
  {
   "cell_type": "code",
   "execution_count": 80,
   "metadata": {},
   "outputs": [
    {
     "data": {
      "text/latex": [
       "$\\displaystyle \\left[\\begin{matrix}\\frac{λ}{4} + \\frac{1}{4} & 0 & 0 & 0\\\\0 & \\frac{1}{4} - \\frac{λ}{4} & \\frac{λ}{2} & 0\\\\0 & \\frac{λ}{2} & \\frac{1}{4} - \\frac{λ}{4} & 0\\\\0 & 0 & 0 & \\frac{λ}{4} + \\frac{1}{4}\\end{matrix}\\right]$"
      ],
      "text/plain": [
       "Matrix([\n",
       "[λ/4 + 1/4,         0,         0,         0],\n",
       "[        0, 1/4 - λ/4,       λ/2,         0],\n",
       "[        0,       λ/2, 1/4 - λ/4,         0],\n",
       "[        0,         0,         0, λ/4 + 1/4]])"
      ]
     },
     "execution_count": 80,
     "metadata": {},
     "output_type": "execute_result"
    }
   ],
   "source": [
    "temp = rho_iso[0, 3]\n",
    "rho_iso[0, 3] = rho_iso[1, 2]\n",
    "rho_iso[1, 2] = temp\n",
    "\n",
    "temp = rho_iso[3, 0]\n",
    "rho_iso[3, 0] = rho_iso[2, 1]\n",
    "rho_iso[2, 1] = temp\n",
    "\n",
    "rho_iso"
   ]
  },
  {
   "cell_type": "code",
   "execution_count": 81,
   "metadata": {},
   "outputs": [
    {
     "data": {
      "text/plain": [
       "{(λ + 1)/4: 2, λ/4 + 1/4: 1, 1/4 - 3*λ/4: 1}"
      ]
     },
     "execution_count": 81,
     "metadata": {},
     "output_type": "execute_result"
    }
   ],
   "source": [
    "rho_iso.eigenvals()"
   ]
  },
  {
   "cell_type": "markdown",
   "metadata": {},
   "source": [
    "for $λ > 1/3$, the state is entangled "
   ]
  }
 ],
 "metadata": {
  "kernelspec": {
   "display_name": "Python 3.10.4 64-bit",
   "language": "python",
   "name": "python3"
  },
  "language_info": {
   "codemirror_mode": {
    "name": "ipython",
    "version": 3
   },
   "file_extension": ".py",
   "mimetype": "text/x-python",
   "name": "python",
   "nbconvert_exporter": "python",
   "pygments_lexer": "ipython3",
   "version": "3.10.4"
  },
  "orig_nbformat": 4,
  "vscode": {
   "interpreter": {
    "hash": "e7370f93d1d0cde622a1f8e1c04877d8463912d04d973331ad4851f04de6915a"
   }
  }
 },
 "nbformat": 4,
 "nbformat_minor": 2
}
