{
 "cells": [
  {
   "cell_type": "code",
   "execution_count": 60,
   "metadata": {},
   "outputs": [],
   "source": [
    "import numpy as np\n",
    "import sympy as sy"
   ]
  },
  {
   "cell_type": "markdown",
   "metadata": {},
   "source": [
    "# Problem #1"
   ]
  },
  {
   "cell_type": "code",
   "execution_count": 61,
   "metadata": {},
   "outputs": [],
   "source": [
    "p_12 = sy.Matrix([\n",
    "    [0.15442, 0.646720],\n",
    "    [0.14680, 0.052064]\n",
    "])\n",
    "\n",
    "p_23 = sy.Matrix([\n",
    "    [0.21789, 0.083325],\n",
    "    [0.52165, 0.17713]\n",
    "])\n",
    "\n",
    "p_34 =sy.Matrix([\n",
    "    [0.31051, 0.42903],\n",
    "    [0.12541, 0.13504]\n",
    "])"
   ]
  },
  {
   "cell_type": "markdown",
   "metadata": {},
   "source": [
    "Using np.sum(Matrix, 0) it \"collapses\" the columns into one row\n",
    "\n",
    "Using np.sum(Matrix, 1) it adds up each row into one elemnt of a column"
   ]
  },
  {
   "cell_type": "code",
   "execution_count": 62,
   "metadata": {},
   "outputs": [
    {
     "data": {
      "text/latex": [
       "$\\displaystyle \\left[\\begin{matrix}0.15442 & 0.64672\\\\0.1468 & 0.052064\\end{matrix}\\right]$"
      ],
      "text/plain": [
       "Matrix([\n",
       "[0.15442,  0.64672],\n",
       "[ 0.1468, 0.052064]])"
      ]
     },
     "execution_count": 62,
     "metadata": {},
     "output_type": "execute_result"
    }
   ],
   "source": [
    "p_12"
   ]
  },
  {
   "cell_type": "code",
   "execution_count": 63,
   "metadata": {},
   "outputs": [
    {
     "data": {
      "text/latex": [
       "$\\displaystyle \\left[\\begin{matrix}0.80114\\\\0.198864\\end{matrix}\\right]$"
      ],
      "text/plain": [
       "Matrix([\n",
       "[ 0.80114],\n",
       "[0.198864]])"
      ]
     },
     "execution_count": 63,
     "metadata": {},
     "output_type": "execute_result"
    }
   ],
   "source": [
    "p_1 = sy.Matrix(np.sum(p_12, 1))\n",
    "p_1"
   ]
  },
  {
   "cell_type": "code",
   "execution_count": 64,
   "metadata": {},
   "outputs": [
    {
     "data": {
      "text/latex": [
       "$\\displaystyle \\left[\\begin{matrix}0.30122\\\\0.698784\\end{matrix}\\right]$"
      ],
      "text/plain": [
       "Matrix([\n",
       "[ 0.30122],\n",
       "[0.698784]])"
      ]
     },
     "execution_count": 64,
     "metadata": {},
     "output_type": "execute_result"
    }
   ],
   "source": [
    "p_2 = sy.Matrix(np.sum(p_12, 0))\n",
    "p_2"
   ]
  },
  {
   "cell_type": "code",
   "execution_count": 65,
   "metadata": {},
   "outputs": [
    {
     "data": {
      "text/latex": [
       "$\\displaystyle \\left[\\begin{matrix}0.73954\\\\0.260455\\end{matrix}\\right]$"
      ],
      "text/plain": [
       "Matrix([\n",
       "[ 0.73954],\n",
       "[0.260455]])"
      ]
     },
     "execution_count": 65,
     "metadata": {},
     "output_type": "execute_result"
    }
   ],
   "source": [
    "p_3 = sy.Matrix(np.sum(p_23, 0))\n",
    "p_3"
   ]
  },
  {
   "cell_type": "code",
   "execution_count": 67,
   "metadata": {},
   "outputs": [],
   "source": [
    "p_global = []\n",
    "co1 = []\n",
    "co2 = []\n",
    "co3 = []\n",
    "co4 = []\n",
    "for a1 in range(0, 2):\n",
    "    for a2 in range(0, 2):\n",
    "        for a3 in range(0, 2):\n",
    "            for a4 in range(0, 2):\n",
    "                p_global.append(p_12[a1, a2]*p_23[a2, a3]*p_34[a3, a4]/(p_2[a2]*p_3[a3]))\n",
    "                co1.append(a1)\n",
    "                co2.append(a2)\n",
    "                co3.append(a3)\n",
    "                co4.append(a4)\n"
   ]
  },
  {
   "cell_type": "markdown",
   "metadata": {},
   "source": [
    "On the left are the variables/coordinates, a1, a2, a3, a4, and on the right the P_ABCD value for every permutation\n",
    "\n",
    "So this is the global distribution for every combination of a1,a2,a3,a4"
   ]
  },
  {
   "cell_type": "code",
   "execution_count": 70,
   "metadata": {},
   "outputs": [
    {
     "data": {
      "text/latex": [
       "$\\displaystyle \\left[\\begin{matrix}0 & 0 & 0 & 0 & 0.0468997972336932\\\\0 & 0 & 0 & 1 & 0.0648011980521444\\\\0 & 0 & 1 & 0 & 0.0205681170448714\\\\0 & 0 & 1 & 1 & 0.0221475043915113\\\\0 & 1 & 0 & 0 & 0.202705939146666\\\\0 & 1 & 0 & 1 & 0.280077707874445\\\\0 & 1 & 1 & 0 & 0.0789341489415022\\\\0 & 1 & 1 & 1 & 0.084995355020018\\\\1 & 0 & 0 & 0 & 0.0445854826700308\\\\1 & 0 & 0 & 1 & 0.0616035220441316\\\\1 & 0 & 1 & 0 & 0.0195531639825613\\\\1 & 0 & 1 & 1 & 0.0210546149765177\\\\1 & 1 & 0 & 0 & 0.0163187809496103\\\\1 & 1 & 0 & 1 & 0.0225475720292787\\\\1 & 1 & 1 & 0 & 0.00635457003106502\\\\1 & 1 & 1 & 1 & 0.00684252561195296\\end{matrix}\\right]$"
      ],
      "text/plain": [
       "Matrix([\n",
       "[0, 0, 0, 0,  0.0468997972336932],\n",
       "[0, 0, 0, 1,  0.0648011980521444],\n",
       "[0, 0, 1, 0,  0.0205681170448714],\n",
       "[0, 0, 1, 1,  0.0221475043915113],\n",
       "[0, 1, 0, 0,   0.202705939146666],\n",
       "[0, 1, 0, 1,   0.280077707874445],\n",
       "[0, 1, 1, 0,  0.0789341489415022],\n",
       "[0, 1, 1, 1,   0.084995355020018],\n",
       "[1, 0, 0, 0,  0.0445854826700308],\n",
       "[1, 0, 0, 1,  0.0616035220441316],\n",
       "[1, 0, 1, 0,  0.0195531639825613],\n",
       "[1, 0, 1, 1,  0.0210546149765177],\n",
       "[1, 1, 0, 0,  0.0163187809496103],\n",
       "[1, 1, 0, 1,  0.0225475720292787],\n",
       "[1, 1, 1, 0, 0.00635457003106502],\n",
       "[1, 1, 1, 1, 0.00684252561195296]])"
      ]
     },
     "execution_count": 70,
     "metadata": {},
     "output_type": "execute_result"
    }
   ],
   "source": [
    "sy.Matrix([co1, co2, co3, co4, p_global]).T"
   ]
  },
  {
   "cell_type": "code",
   "execution_count": 71,
   "metadata": {},
   "outputs": [
    {
     "data": {
      "text/latex": [
       "$\\displaystyle 0.99999$"
      ],
      "text/plain": [
       "0.999990000000000"
      ]
     },
     "execution_count": 71,
     "metadata": {},
     "output_type": "execute_result"
    }
   ],
   "source": [
    "np.sum(p_global)"
   ]
  }
 ],
 "metadata": {
  "kernelspec": {
   "display_name": "Python 3.10.4 64-bit",
   "language": "python",
   "name": "python3"
  },
  "language_info": {
   "codemirror_mode": {
    "name": "ipython",
    "version": 3
   },
   "file_extension": ".py",
   "mimetype": "text/x-python",
   "name": "python",
   "nbconvert_exporter": "python",
   "pygments_lexer": "ipython3",
   "version": "3.10.4"
  },
  "orig_nbformat": 4,
  "vscode": {
   "interpreter": {
    "hash": "e7370f93d1d0cde622a1f8e1c04877d8463912d04d973331ad4851f04de6915a"
   }
  }
 },
 "nbformat": 4,
 "nbformat_minor": 2
}
