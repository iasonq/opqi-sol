{
 "cells": [
  {
   "cell_type": "code",
   "execution_count": 232,
   "metadata": {},
   "outputs": [],
   "source": [
    "import numpy as np\n",
    "import sympy as sy"
   ]
  },
  {
   "cell_type": "markdown",
   "metadata": {},
   "source": [
    "## Problem #6\n",
    "\n",
    "### Part 1"
   ]
  },
  {
   "cell_type": "code",
   "execution_count": 233,
   "metadata": {},
   "outputs": [],
   "source": [
    "p4 = sy.Matrix([\n",
    "    [2, 9],\n",
    "    [10, 3]\n",
    "])/24\n",
    "\n",
    "p5 = sy.Matrix([\n",
    "    [2, 1],\n",
    "    [2, 1]\n",
    "])/6\n"
   ]
  },
  {
   "cell_type": "code",
   "execution_count": 234,
   "metadata": {},
   "outputs": [
    {
     "data": {
      "text/latex": [
       "$\\displaystyle \\left[\\begin{matrix}\\frac{1}{12} & \\frac{3}{8}\\\\\\frac{5}{12} & \\frac{1}{8}\\\\\\frac{1}{3} & \\frac{1}{6}\\\\\\frac{1}{3} & \\frac{1}{6}\\end{matrix}\\right]$"
      ],
      "text/plain": [
       "Matrix([\n",
       "[1/12, 3/8],\n",
       "[5/12, 1/8],\n",
       "[ 1/3, 1/6],\n",
       "[ 1/3, 1/6]])"
      ]
     },
     "execution_count": 234,
     "metadata": {},
     "output_type": "execute_result"
    }
   ],
   "source": [
    "sy.Matrix([p4, p5])"
   ]
  },
  {
   "cell_type": "markdown",
   "metadata": {},
   "source": [
    "The above is just a visualization, top 4 entries are p4, bottom 4 entries are p5"
   ]
  },
  {
   "cell_type": "code",
   "execution_count": 235,
   "metadata": {},
   "outputs": [],
   "source": [
    "p4A = sy.Matrix(np.sum(p4, 1))\n",
    "p4B = sy.Matrix(np.sum(p4, 0))\n",
    "p5A = sy.Matrix(np.sum(p5, 1))\n",
    "p5B = sy.Matrix(np.sum(p5, 0))"
   ]
  },
  {
   "cell_type": "code",
   "execution_count": 236,
   "metadata": {},
   "outputs": [
    {
     "data": {
      "text/latex": [
       "$\\displaystyle \\left[\\begin{matrix}\\frac{11}{24}\\\\\\frac{13}{24}\\end{matrix}\\right]$"
      ],
      "text/plain": [
       "Matrix([\n",
       "[11/24],\n",
       "[13/24]])"
      ]
     },
     "execution_count": 236,
     "metadata": {},
     "output_type": "execute_result"
    }
   ],
   "source": [
    "p4A"
   ]
  },
  {
   "cell_type": "code",
   "execution_count": 237,
   "metadata": {},
   "outputs": [
    {
     "data": {
      "text/latex": [
       "$\\displaystyle \\left[\\begin{matrix}\\frac{11}{24} & \\frac{1}{2} & \\frac{1}{2} & \\frac{2}{3}\\\\\\frac{13}{24} & \\frac{1}{2} & \\frac{1}{2} & \\frac{1}{3}\\end{matrix}\\right]$"
      ],
      "text/plain": [
       "Matrix([\n",
       "[11/24, 1/2, 1/2, 2/3],\n",
       "[13/24, 1/2, 1/2, 1/3]])"
      ]
     },
     "execution_count": 237,
     "metadata": {},
     "output_type": "execute_result"
    }
   ],
   "source": [
    "sy.Matrix([p4A, p4B, p5A, p5B]).reshape(4, 2).T"
   ]
  },
  {
   "cell_type": "code",
   "execution_count": 238,
   "metadata": {},
   "outputs": [
    {
     "name": "stdout",
     "output_type": "stream",
     "text": [
      "p4 =  1/12 \n",
      "p4A*p4B =  11/48 for i, j =  0   0 \n",
      "\n",
      "p4 =  3/8 \n",
      "p4A*p4B =  11/48 for i, j =  0   1 \n",
      "\n",
      "p4 =  5/12 \n",
      "p4A*p4B =  13/48 for i, j =  1   0 \n",
      "\n",
      "p4 =  1/8 \n",
      "p4A*p4B =  13/48 for i, j =  1   1 \n",
      "\n"
     ]
    }
   ],
   "source": [
    "for i in range(0, 2):\n",
    "    for j in range(0, 2):\n",
    "        print(\"p4 = \", p4[i, j], \"\\np4A*p4B = \", p4A[i]*p4B[j], \"for i, j = \", i, \" \", j, \"\\n\")"
   ]
  },
  {
   "cell_type": "code",
   "execution_count": 239,
   "metadata": {},
   "outputs": [
    {
     "name": "stdout",
     "output_type": "stream",
     "text": [
      "p5 =  1/3 \n",
      "p4A*p4B =  1/3 for i, j =  0   0\n",
      "p5 =  1/6 \n",
      "p4A*p4B =  1/6 for i, j =  0   1\n",
      "p5 =  1/3 \n",
      "p4A*p4B =  1/3 for i, j =  1   0\n",
      "p5 =  1/6 \n",
      "p4A*p4B =  1/6 for i, j =  1   1\n"
     ]
    }
   ],
   "source": [
    "for i in range(0, 2):\n",
    "    for j in range(0, 2):\n",
    "        print(\"p5 = \", p5[i, j], \"\\np4A*p4B = \", p5A[i]*p5B[j], \"for i, j = \", i, \" \", j)"
   ]
  },
  {
   "cell_type": "markdown",
   "metadata": {},
   "source": [
    "We see the contradictions here for G_3, we get different results for both sides of the equations in multiple occasions, indicating a contradiction and incompatibility with the distribution"
   ]
  },
  {
   "cell_type": "markdown",
   "metadata": {},
   "source": [
    "### Part 2"
   ]
  },
  {
   "cell_type": "markdown",
   "metadata": {},
   "source": [
    "$$ G_1': A \\rightarrow B \\rightarrow C$$\n",
    "\n",
    "$$ G_2': A \\leftarrow B \\rightarrow C$$\n",
    "\n",
    "$$ G_3': A \\leftarrow B \\leftarrow C$$\n",
    "\n",
    "$$ G_4': A \\ B \\ C$$"
   ]
  },
  {
   "cell_type": "code",
   "execution_count": 240,
   "metadata": {},
   "outputs": [],
   "source": [
    "p4 = np.array([2, 6, 0, 0, 1, 3, 4, 0])/16\n",
    "p5 = np.array([6, 3, 10, 5, 4, 2, 12, 6])/48"
   ]
  },
  {
   "cell_type": "code",
   "execution_count": 241,
   "metadata": {},
   "outputs": [],
   "source": [
    "p4_e = np.array([\n",
    "        [\n",
    "            [2, 6],\n",
    "            [0, 0]\n",
    "        ],\n",
    "        [\n",
    "            [1, 3],\n",
    "            [4, 0],\n",
    "        ]\n",
    "            ])/16"
   ]
  },
  {
   "cell_type": "code",
   "execution_count": 242,
   "metadata": {},
   "outputs": [],
   "source": [
    "p5_e = np.array([\n",
    "        [\n",
    "            [6, 3],\n",
    "            [10, 5]\n",
    "        ],\n",
    "        [\n",
    "            [4, 2],\n",
    "            [12, 6],\n",
    "        ]\n",
    "            ])/48"
   ]
  },
  {
   "cell_type": "code",
   "execution_count": 243,
   "metadata": {},
   "outputs": [
    {
     "data": {
      "text/latex": [
       "$\\displaystyle \\left[\\begin{matrix}0.125 & 0.125\\\\0.375 & 0.0625\\\\0 & 0.208333333333333\\\\0 & 0.104166666666667\\\\0.0625 & 0.0833333333333333\\\\0.1875 & 0.0416666666666667\\\\0.25 & 0.25\\\\0 & 0.125\\end{matrix}\\right]$"
      ],
      "text/plain": [
       "Matrix([\n",
       "[ 0.125,              0.125],\n",
       "[ 0.375,             0.0625],\n",
       "[     0,  0.208333333333333],\n",
       "[     0,  0.104166666666667],\n",
       "[0.0625, 0.0833333333333333],\n",
       "[0.1875, 0.0416666666666667],\n",
       "[  0.25,               0.25],\n",
       "[     0,              0.125]])"
      ]
     },
     "execution_count": 243,
     "metadata": {},
     "output_type": "execute_result"
    }
   ],
   "source": [
    "sy.Matrix([p4, p5]).T"
   ]
  },
  {
   "cell_type": "code",
   "execution_count": 244,
   "metadata": {},
   "outputs": [
    {
     "data": {
      "text/plain": [
       "array([['000'],\n",
       "       ['001'],\n",
       "       ['010'],\n",
       "       ['011'],\n",
       "       ['100'],\n",
       "       ['101'],\n",
       "       ['110'],\n",
       "       ['111']], dtype='<U3')"
      ]
     },
     "execution_count": 244,
     "metadata": {},
     "output_type": "execute_result"
    }
   ],
   "source": [
    "coo = np.array([\"000\", \"001\", \"010\", \"011\", \"100\", \"101\", \"110\", \"111\"])\n",
    "coo = np.expand_dims(coo, 1)\n",
    "coo\n"
   ]
  },
  {
   "cell_type": "code",
   "execution_count": 245,
   "metadata": {},
   "outputs": [],
   "source": [
    "def gen(p):\n",
    "    pA = np.array([np.sum(p4[0:4]), np.sum(p4[4:-1])])\n",
    "\n",
    "    getB = [[0,1,4,5],[2, 3, 6, 7]]\n",
    "    pB = np.array([\n",
    "        np.sum(p[getB[0]]),\n",
    "        np.sum(p[getB[1]])\n",
    "    ])\n",
    "\n",
    "    getC = [[0,2,4,6],[1,3,5,7]]\n",
    "    pC = np.array([\n",
    "        np.sum(p[getC[0]]),\n",
    "        np.sum(p[getC[1]])\n",
    "    ])\n",
    "\n",
    "    getAB = [[0, 1], [2, 3], [4, 5], [6, 7]]\n",
    "    pAB = np.array([\n",
    "        [np.sum(p[getAB[0]]), np.sum(p[getAB[1]])],\n",
    "        [np.sum(p[getAB[2]]), np.sum(p[getAB[3]])  ]\n",
    "    ])\n",
    "\n",
    "    getBC = [[0, 4], [1, 5], [2, 6], [3, 7]]\n",
    "    pBC = np.array([\n",
    "        [np.sum(p[getBC[0]]), np.sum(p[getBC[1]])],\n",
    "        [np.sum(p[getBC[2]]), np.sum(p[getBC[3]])]\n",
    "    ])\n",
    "\n",
    "    getAC = [[0, 2], [1, 3], [4, 6], [5, 7]]\n",
    "    pAC = np.array([\n",
    "        [np.sum(p[getAC[0]]), np.sum(p[getAC[1]])],\n",
    "        [np.sum(p[getAC[2]]), np.sum(p[getAC[3]])]\n",
    "    ])\n",
    "    \n",
    "    return pA, pB, pC, pAB, pBC, pAC"
   ]
  },
  {
   "cell_type": "markdown",
   "metadata": {},
   "source": [
    "I could optimize this with functions and calls but whatever"
   ]
  },
  {
   "cell_type": "markdown",
   "metadata": {},
   "source": [
    " Now we have everything we need, p(A), p(B), p(C), p(AB), p(BC).\n",
    "\n",
    " We use these to compare the left and right side of the equations and compare the results\n",
    "\n",
    " If we get no contradictions then the distributions are compatible with the graphs"
   ]
  },
  {
   "cell_type": "markdown",
   "metadata": {},
   "source": [
    "$G_1, G_2, G_3$ can all be checked in the same way, since they have to satisfy the same equation"
   ]
  },
  {
   "cell_type": "code",
   "execution_count": 266,
   "metadata": {},
   "outputs": [],
   "source": [
    "pA, pB, pC, pAB, pBC, pAC = gen(p4)\n",
    "p_e = p4_e.copy()\n",
    "flag = \"Compatible\"\n",
    "for i in range(0, 2):\n",
    "    for j in range(0, 2):\n",
    "        for k in range(0, 2):\n",
    "            #print(\"pABC = \", p_e[i, j, k], \"\\npAB*pBC/pB = \", pAB[i, j]*pBC[j, k]/pB[j])\n",
    "            if p_e[i, j, k] != pAB[i, j]*pBC[j, k]/pB[j]:\n",
    "                flag = \"not compatible\"\n",
    "                print(p_e[i, j, k],  pAB[i, j]*pBC[j, k]/pB[j])"
   ]
  },
  {
   "cell_type": "markdown",
   "metadata": {},
   "source": [
    "Compatible!"
   ]
  },
  {
   "cell_type": "code",
   "execution_count": 265,
   "metadata": {},
   "outputs": [
    {
     "name": "stdout",
     "output_type": "stream",
     "text": [
      "0.20833333333333334 0.20833333333333337\n",
      "0.10416666666666667 0.10416666666666669\n",
      "not compatible\n"
     ]
    }
   ],
   "source": [
    "pA, pB, pC, pAB, pBC, pAC = gen(p5)\n",
    "p_e = p5_e.copy()\n",
    "flag = \"Compatible\"\n",
    "for i in range(0, 2):\n",
    "    for j in range(0, 2):\n",
    "        for k in range(0, 2):\n",
    "            #print(\"pABC = \", p_e[i, j, k], \"\\npAB*pBC/pB = \", pAB[i, j]*pBC[j, k]/pB[j])\n",
    "            if p_e[i, j, k] != pAB[i, j]*pBC[j, k]/pB[j]:\n",
    "                print(p_e[i, j, k],  pAB[i, j]*pBC[j, k]/pB[j])"
   ]
  },
  {
   "cell_type": "markdown",
   "metadata": {},
   "source": [
    "Compatible! Decimal value imprecision"
   ]
  },
  {
   "cell_type": "markdown",
   "metadata": {},
   "source": [
    "Marginals of $p_4$"
   ]
  },
  {
   "cell_type": "code",
   "execution_count": 262,
   "metadata": {},
   "outputs": [
    {
     "name": "stdout",
     "output_type": "stream",
     "text": [
      "pA:\n",
      "  [0.5 0.5]\n",
      "pB:\n",
      "  [0.3125 0.6875]\n",
      "pC:\n",
      " [0.66666667 0.33333333]\n",
      "pAB:\n",
      " [[0.1875 0.3125]\n",
      " [0.125  0.375 ]]\n",
      "pBC:\n",
      " [[0.20833333 0.10416667]\n",
      " [0.45833333 0.22916667]]\n"
     ]
    }
   ],
   "source": [
    "print(\"pA:\\n \", pA)\n",
    "print(\"pB:\\n \", pB)\n",
    "print(\"pC:\\n\", pC)\n",
    "print(\"pAB:\\n\", pAB)\n",
    "print(\"pBC:\\n\", pBC)"
   ]
  },
  {
   "cell_type": "markdown",
   "metadata": {},
   "source": [
    "$p_4, p_5$ are compatible with all three graphs"
   ]
  },
  {
   "cell_type": "markdown",
   "metadata": {},
   "source": [
    "Let's check $G_4'$"
   ]
  },
  {
   "cell_type": "code",
   "execution_count": 248,
   "metadata": {},
   "outputs": [
    {
     "name": "stdout",
     "output_type": "stream",
     "text": [
      "pABC =  0.125 | product = 0.1640625\n",
      "pABC =  0.375 | product = 0.2109375\n",
      "pABC =  0.0 | product = 0.0546875\n",
      "pABC =  0.0 | product = 0.0703125\n",
      "pABC =  0.0625 | product = 0.1640625\n",
      "pABC =  0.1875 | product = 0.2109375\n",
      "pABC =  0.25 | product = 0.0546875\n",
      "pABC =  0.0 | product = 0.0703125\n",
      "not compatible\n"
     ]
    }
   ],
   "source": [
    "pA, pB, pC, pAB, pBC, pAC = gen(p4)\n",
    "p_e = p4_e.copy()\n",
    "flag = \"Compatible\"\n",
    "for i in range(0, 2):\n",
    "    for j in range(0, 2):\n",
    "        for k in range(0, 2):\n",
    "            #print(\"pABC = \", p_e[i, j, k], \"\\npAB*pBC/pB = \", pAB[i, j]*pBC[j, k]/pB[j])\n",
    "            if p_e[i, j, k] != pA[i]*pB[j]*pC[k]:\n",
    "                print(\"pABC = \", p_e[i, j, k], \"| product =\", pA[i]*pB[j]*pC[k])\n",
    "print(flag)"
   ]
  },
  {
   "cell_type": "markdown",
   "metadata": {},
   "source": [
    "Clearly not compatible"
   ]
  },
  {
   "cell_type": "code",
   "execution_count": 249,
   "metadata": {},
   "outputs": [
    {
     "name": "stdout",
     "output_type": "stream",
     "text": [
      "pABC =  0.125 | product = 0.10416666666666669\n",
      "pABC =  0.0625 | product = 0.05208333333333334\n",
      "pABC =  0.20833333333333334 | product = 0.22916666666666669\n",
      "pABC =  0.10416666666666667 | product = 0.11458333333333334\n",
      "pABC =  0.08333333333333333 | product = 0.10416666666666669\n",
      "pABC =  0.041666666666666664 | product = 0.05208333333333334\n",
      "pABC =  0.25 | product = 0.22916666666666669\n",
      "pABC =  0.125 | product = 0.11458333333333334\n",
      "not compatible\n"
     ]
    }
   ],
   "source": [
    "pA, pB, pC, pAB, pBC, pAC = gen(p5)\n",
    "p_e = p5_e.copy()\n",
    "flag = \"Compatible\"\n",
    "for i in range(0, 2):\n",
    "    for j in range(0, 2):\n",
    "        for k in range(0, 2):\n",
    "            #print(\"pABC = \", p_e[i, j, k], \"\\npAB*pBC/pB = \", pAB[i, j]*pBC[j, k]/pB[j])\n",
    "            if p_e[i, j, k] != pA[i]*pB[j]*pC[k]:\n",
    "                print(\"pABC = \", p_e[i, j, k], \"| product =\", pA[i]*pB[j]*pC[k])\n",
    "print(flag)"
   ]
  },
  {
   "cell_type": "markdown",
   "metadata": {},
   "source": [
    "Not compatible!"
   ]
  },
  {
   "cell_type": "markdown",
   "metadata": {},
   "source": [
    "#### $G_4'$ clearly not compatible with both distributions"
   ]
  },
  {
   "cell_type": "markdown",
   "metadata": {},
   "source": [
    "### Part 3)\n",
    "\n",
    "#### Entropy - log2 or ln ?, just change log2 -> log in the next cell for the ln instead of log2"
   ]
  },
  {
   "cell_type": "code",
   "execution_count": 250,
   "metadata": {},
   "outputs": [],
   "source": [
    "def calc_ent(p):\n",
    "    return -np.sum(p*np.log2(p, where = p != 0))"
   ]
  },
  {
   "cell_type": "code",
   "execution_count": 251,
   "metadata": {},
   "outputs": [
    {
     "name": "stdout",
     "output_type": "stream",
     "text": [
      "Entropy of the distributions\n",
      "H4 =  2.1084585933443494 \n",
      "H5 =  2.8011518977465384\n"
     ]
    }
   ],
   "source": [
    "#ind = np.where(p4 != 0)\n",
    "H4 = calc_ent(p4)\n",
    "#I could use the where = arugment in lo2 as well instad of ind\n",
    "H5 = calc_ent(p5)\n",
    "print(\"Entropy of the distributions\")\n",
    "print(\"H4 = \", H4, \"\\nH5 = \", H5)"
   ]
  },
  {
   "cell_type": "code",
   "execution_count": 252,
   "metadata": {},
   "outputs": [],
   "source": [
    "def ent_gen(p):\n",
    "    pA, pB, pC, pAB, pBC, pAC = gen(p)\n",
    "    HA  = calc_ent(pA)\n",
    "    HB  = calc_ent(pB)\n",
    "    HC  = calc_ent(pC)\n",
    "    HAB = calc_ent(pAB)\n",
    "    HBC = calc_ent(pBC)\n",
    "    HAC = calc_ent(pBC)\n",
    "    return HA, HB, HC, HAB, HBC, HAC"
   ]
  },
  {
   "cell_type": "code",
   "execution_count": 253,
   "metadata": {},
   "outputs": [
    {
     "name": "stdout",
     "output_type": "stream",
     "text": [
      "Entropy of the marginals of p4: \n",
      " HA  =  1.0 \n",
      " HB  =  0.8112781244591328 \n",
      " HC  =  0.9886994082884974 \n",
      " HAB =  1.5 \n",
      " HBC =  1.4197367178034825 \n",
      " HAC =  1.4197367178034825 \n",
      "\n"
     ]
    }
   ],
   "source": [
    "HA, HB, HC, HAB, HBC, HAC = ent_gen(p4)\n",
    "print(\"Entropy of the marginals of p4: \\n\"\n",
    "    \" HA  = \", HA,  \"\\n\",\n",
    "    \"HB  = \", HB , \"\\n\",\n",
    "    \"HC  = \", HC , \"\\n\",\n",
    "    \"HAB = \", HAB, \"\\n\",\n",
    "    \"HBC = \", HBC, \"\\n\",\n",
    "    \"HAC = \", HAC, \"\\n\"\n",
    ")"
   ]
  },
  {
   "cell_type": "code",
   "execution_count": 254,
   "metadata": {},
   "outputs": [
    {
     "name": "stdout",
     "output_type": "stream",
     "text": [
      "Entropy of the marginals of p5: \n",
      " HA  =  1.0 \n",
      " HB  =  0.8960382325345574 \n",
      " HC  =  0.9182958340544896 \n",
      " HAB =  1.882856063692049 \n",
      " HBC =  1.8143340665890466 \n",
      " HAC =  1.8143340665890466 \n",
      "\n"
     ]
    }
   ],
   "source": [
    "HA, HB, HC, HAB, HBC, HAC = ent_gen(p5)\n",
    "print(\"Entropy of the marginals of p5: \\n\"\n",
    "    \" HA  = \", HA,  \"\\n\",\n",
    "    \"HB  = \", HB , \"\\n\",\n",
    "    \"HC  = \", HC , \"\\n\",\n",
    "    \"HAB = \", HAB, \"\\n\",\n",
    "    \"HBC = \", HBC, \"\\n\",\n",
    "    \"HAC = \", HAC, \"\\n\"\n",
    ")"
   ]
  },
  {
   "cell_type": "markdown",
   "metadata": {},
   "source": [
    "#### Compatibility check\n",
    "\n",
    "$ H(A, B, C) = H(A,B) + H(B, C) - H(B)$ for $G'_1, G'_2, G'_3$\n",
    "\n",
    "$ H(A, B, C) = H(A) + H(B) + H(C) $ for G'_4"
   ]
  },
  {
   "cell_type": "code",
   "execution_count": 255,
   "metadata": {},
   "outputs": [
    {
     "name": "stdout",
     "output_type": "stream",
     "text": [
      "H4 =  2.1084585933443494 | H(AB) + H(BC) - H(B) 2.10845859334435\n",
      "p4 is compatible with G1, G2, G3 \n",
      "\n",
      "H4 =  2.1084585933443494 | H(A) + H(B) + H(C) 2.79997753274763\n",
      "p4 is NOT compatible with G4\n"
     ]
    }
   ],
   "source": [
    "HA, HB, HC, HAB, HBC, HAC = ent_gen(p4)\n",
    "print(\"H4 = \", H4, \"| H(AB) + H(BC) - H(B)\", HAB+HBC-HB)\n",
    "print(\"p4 is compatible with G1, G2, G3 \\n\")\n",
    "print(\"H4 = \", H4, \"| H(A) + H(B) + H(C)\", HA+HB+HC)\n",
    "print(\"p4 is NOT compatible with G4\")"
   ]
  },
  {
   "cell_type": "code",
   "execution_count": 256,
   "metadata": {},
   "outputs": [
    {
     "name": "stdout",
     "output_type": "stream",
     "text": [
      "H4 =  2.1084585933443494 | H(AB) + H(BC) - H(B) 2.10845859334435\n",
      "p4 is compatible with G1, G2, G3 \n",
      "\n",
      "H4 =  2.1084585933443494 | H(A) + H(B) + H(C) 2.79997753274763\n",
      "p4 is NOT compatible with G4\n"
     ]
    }
   ],
   "source": [
    "HA, HB, HC, HAB, HBC, HAC = ent_gen(p4)\n",
    "print(\"H4 = \", H4, \"| H(AB) + H(BC) - H(B)\", HAB+HBC-HB)\n",
    "print(\"p4 is compatible with G1, G2, G3 \\n\")\n",
    "print(\"H4 = \", H4, \"| H(A) + H(B) + H(C)\", HA+HB+HC)\n",
    "print(\"p4 is NOT compatible with G4\")"
   ]
  },
  {
   "cell_type": "markdown",
   "metadata": {},
   "source": [
    "Those results arent really surprising now are they?"
   ]
  }
 ],
 "metadata": {
  "kernelspec": {
   "display_name": "Python 3.10.4 64-bit",
   "language": "python",
   "name": "python3"
  },
  "language_info": {
   "codemirror_mode": {
    "name": "ipython",
    "version": 3
   },
   "file_extension": ".py",
   "mimetype": "text/x-python",
   "name": "python",
   "nbconvert_exporter": "python",
   "pygments_lexer": "ipython3",
   "version": "3.10.4"
  },
  "orig_nbformat": 4,
  "vscode": {
   "interpreter": {
    "hash": "e7370f93d1d0cde622a1f8e1c04877d8463912d04d973331ad4851f04de6915a"
   }
  }
 },
 "nbformat": 4,
 "nbformat_minor": 2
}
